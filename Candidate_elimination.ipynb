{
  "nbformat": 4,
  "nbformat_minor": 0,
  "metadata": {
    "colab": {
      "provenance": []
    },
    "kernelspec": {
      "name": "python3",
      "display_name": "Python 3"
    },
    "language_info": {
      "name": "python"
    }
  },
  "cells": [
    {
      "cell_type": "code",
      "execution_count": 2,
      "metadata": {
        "colab": {
          "base_uri": "https://localhost:8080/"
        },
        "id": "fon4nS7xZ7bs",
        "outputId": "1d9026a6-2876-4536-8691-904c9d360343"
      },
      "outputs": [
        {
          "output_type": "stream",
          "name": "stdout",
          "text": [
            "     sky air_temp humidity    wind water forecast enjoy_sport\n",
            "0  sunny     warm   normal  strong  warm     same         yes\n",
            "1  sunny     warm     high  strong  warm     same         yes\n",
            "2  rainy     cold     high  strong  warm   change          no\n",
            "3  sunny     warm     high  strong  cool   change         yes\n"
          ]
        }
      ],
      "source": [
        "import pandas as pd\n",
        "df=pd.read_csv(\"/content/enjoysport_yes - enjoysport_yes.csv\")\n",
        "print(df)\n"
      ]
    },
    {
      "cell_type": "code",
      "source": [
        "import numpy as np\n",
        "\n",
        "# Convert the pandas DataFrame to a NumPy array\n",
        "data = df.to_numpy()\n",
        "\n",
        "print(\"data = \", data)"
      ],
      "metadata": {
        "colab": {
          "base_uri": "https://localhost:8080/"
        },
        "id": "cFuAkhqUGBRj",
        "outputId": "9c84d713-7599-40cf-ee88-4f9b13640d1d"
      },
      "execution_count": 3,
      "outputs": [
        {
          "output_type": "stream",
          "name": "stdout",
          "text": [
            "data =  [['sunny' 'warm' 'normal' 'strong' 'warm' 'same' 'yes']\n",
            " ['sunny' 'warm' 'high' 'strong' 'warm' 'same' 'yes']\n",
            " ['rainy' 'cold' 'high' 'strong' 'warm' 'change' 'no']\n",
            " ['sunny' 'warm' 'high' 'strong' 'cool' 'change' 'yes']]\n"
          ]
        }
      ]
    },
    {
      "cell_type": "code",
      "source": [
        "g = [[\"?\"]*(len(data[0]) - 1)]\n",
        "s = [\" \"]*(len(data[0]) - 1)\n",
        "print(g)\n",
        "print(s)"
      ],
      "metadata": {
        "colab": {
          "base_uri": "https://localhost:8080/"
        },
        "id": "GUHllic3GDkR",
        "outputId": "9fdf48d1-b8dc-4e5e-9ae3-8c1bc18d22e1"
      },
      "execution_count": 4,
      "outputs": [
        {
          "output_type": "stream",
          "name": "stdout",
          "text": [
            "[['?', '?', '?', '?', '?', '?']]\n",
            "[' ', ' ', ' ', ' ', ' ', ' ']\n"
          ]
        }
      ]
    },
    {
      "cell_type": "code",
      "source": [
        "def checkSpecificBoundary(data, s, i):\n",
        "   for j in range(len(s)):\n",
        "      if data[i][j] != s[j]:\n",
        "        if(s[j] == \" \"):\n",
        "          s[j] = data[i][j]\n",
        "        else:\n",
        "          s[j] = \"?\"\n",
        "\n",
        "def checkGeneralBoundary(data, g, i):\n",
        "    for j in range(len(g)):\n",
        "      if g[j] != \"?\" and data[i][j] != g[j]:\n",
        "          return True\n",
        "\n",
        "    return False"
      ],
      "metadata": {
        "id": "kRuMsTHxGK26"
      },
      "execution_count": 5,
      "outputs": []
    },
    {
      "cell_type": "code",
      "source": [
        "opposite_features = {}\n",
        "\n",
        "for i in range(len(data[0]) - 1):\n",
        "  feature_set = set()\n",
        "  for j in range(len(data)):\n",
        "    feature_set.add(data[j][i])\n",
        "\n",
        "  for feature in feature_set:\n",
        "    opposite_features[feature] = [opp_feature for opp_feature in feature_set if(opp_feature != feature)]\n",
        "\n",
        "print(opposite_features)\n"
      ],
      "metadata": {
        "colab": {
          "base_uri": "https://localhost:8080/"
        },
        "id": "y2XzTeZyGPwN",
        "outputId": "162cd80b-82f7-49cf-c930-8089ce6af13b"
      },
      "execution_count": 6,
      "outputs": [
        {
          "output_type": "stream",
          "name": "stdout",
          "text": [
            "{'rainy': ['sunny'], 'sunny': ['rainy'], 'warm': ['cool'], 'cold': ['warm'], 'normal': ['high'], 'high': ['normal'], 'strong': [], 'cool': ['warm'], 'change': ['same'], 'same': ['change']}\n"
          ]
        }
      ]
    },
    {
      "cell_type": "code",
      "source": [
        "def checkIsMatchingWithPrevious(data, g, limit):\n",
        "  for i in range(limit):\n",
        "    if data[i][-1] == 1:\n",
        "      if(checkGeneralBoundary(data, g, i)):\n",
        "        return False\n",
        "\n",
        "    else:\n",
        "      if(not checkSpecificBoundary(data, g, i)):\n",
        "        return False\n",
        "  return True"
      ],
      "metadata": {
        "id": "70Rur-E9GTea"
      },
      "execution_count": 7,
      "outputs": []
    },
    {
      "cell_type": "code",
      "source": [
        "def generateHypothesis(data, g, i):\n",
        "  mismatch_boundary = g;\n",
        "  new_boundary = []\n",
        "  for j in range(len(data[0]) - 1):\n",
        "      feature = data[i][j]\n",
        "      for opposite_feature in opposite_features[feature]:\n",
        "        new_hyopohesis = mismatch_boundary.copy()\n",
        "        new_hyopohesis[j] = opposite_feature\n",
        "        new_boundary.append(new_hyopohesis)\n",
        "\n",
        "  return new_boundary"
      ],
      "metadata": {
        "id": "1RUfqgDeGV93"
      },
      "execution_count": 8,
      "outputs": []
    },
    {
      "cell_type": "code",
      "source": [
        "for i in range(len(data)):\n",
        "  print(\"\\n\")\n",
        "  print(\"Instance \", i + 1)\n",
        "  if data[i][len(data[0]) - 1] == 1:\n",
        "    # specific boundary\n",
        "    checkSpecificBoundary(data, s, i)\n",
        "\n",
        "    # general boundary\n",
        "    for g_boundary in g:\n",
        "      if(checkGeneralBoundary(data, g_boundary, i)):\n",
        "        g.remove(g_boundary)\n",
        "\n",
        "    print(\"Specific Boundary: \", s)\n",
        "    print(\"General Boundary: \", g)\n",
        "  else:\n",
        "    # general boundary\n",
        "    for g_boundary in g:\n",
        "      if(not checkGeneralBoundary(data, g_boundary, i)):\n",
        "        new_hypothesis = generateHypothesis(data, g_boundary, i)\n",
        "        for new_boundary in new_hypothesis:\n",
        "          if(checkIsMatchingWithPrevious(data, new_boundary, i)):\n",
        "            g.append(new_boundary)\n",
        "        g.remove(g_boundary)\n",
        "\n",
        "    print(\"Specific Boundary: \", s)\n",
        "    print(\"General Boundary: \", g)"
      ],
      "metadata": {
        "colab": {
          "base_uri": "https://localhost:8080/"
        },
        "id": "dDwIr0zJGY-t",
        "outputId": "89716c26-e831-4463-c649-ab48154e2534"
      },
      "execution_count": 9,
      "outputs": [
        {
          "output_type": "stream",
          "name": "stdout",
          "text": [
            "\n",
            "\n",
            "Instance  1\n",
            "Specific Boundary:  [' ', ' ', ' ', ' ', ' ', ' ']\n",
            "General Boundary:  [['rainy', '?', '?', '?', '?', '?'], ['?', 'cool', '?', '?', '?', '?'], ['?', '?', 'high', '?', '?', '?'], ['?', '?', '?', '?', 'cool', '?'], ['?', '?', '?', '?', '?', 'change']]\n",
            "\n",
            "\n",
            "Instance  2\n",
            "Specific Boundary:  [' ', ' ', ' ', ' ', ' ', ' ']\n",
            "General Boundary:  [['rainy', '?', '?', '?', '?', '?'], ['?', 'cool', '?', '?', '?', '?'], ['?', '?', '?', '?', 'cool', '?'], ['?', '?', '?', '?', '?', 'change']]\n",
            "\n",
            "\n",
            "Instance  3\n",
            "Specific Boundary:  [' ', ' ', ' ', ' ', ' ', ' ']\n",
            "General Boundary:  [['?', 'cool', '?', '?', '?', '?'], ['?', '?', '?', '?', 'cool', '?']]\n",
            "\n",
            "\n",
            "Instance  4\n",
            "Specific Boundary:  [' ', ' ', ' ', ' ', ' ', ' ']\n",
            "General Boundary:  [['?', 'cool', '?', '?', '?', '?']]\n"
          ]
        }
      ]
    },
    {
      "cell_type": "code",
      "source": [
        "print(\"Final Hypothesis: \")\n",
        "print(\"Specific Boundary: \", s)\n",
        "print(\"General Boundary: \", g)"
      ],
      "metadata": {
        "colab": {
          "base_uri": "https://localhost:8080/"
        },
        "id": "-675AB7MGieO",
        "outputId": "9581f71d-7c95-4eb0-fca6-09173890d453"
      },
      "execution_count": 10,
      "outputs": [
        {
          "output_type": "stream",
          "name": "stdout",
          "text": [
            "Final Hypothesis: \n",
            "Specific Boundary:  [' ', ' ', ' ', ' ', ' ', ' ']\n",
            "General Boundary:  [['?', 'cool', '?', '?', '?', '?']]\n"
          ]
        }
      ]
    }
  ]
}